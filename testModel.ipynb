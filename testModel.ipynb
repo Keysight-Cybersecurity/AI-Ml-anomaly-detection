{
 "cells": [
  {
   "cell_type": "code",
   "execution_count": 19,
   "id": "65dda79c",
   "metadata": {},
   "outputs": [],
   "source": [
    "import pandas as pd\n",
    "import joblib\n",
    "\n",
    "# Load CSV\n",
    "df = pd.read_csv(\"data.csv\", sep=';')\n",
    "\n",
    "# Fill NaNs with -1\n",
    "df.fillna(-1, inplace=True)\n",
    "\n",
    "# Convert float integers to int\n",
    "def convert_float_int(val):\n",
    "    if isinstance(val, float) and val.is_integer():\n",
    "        return int(val)\n",
    "    else:\n",
    "        return val\n",
    "\n",
    "df = df.map(convert_float_int)\n",
    "\n",
    "\n",
    "\n",
    "# Keep a copy of the original DataFrame with identifiers\n",
    "df_original = df.copy()\n",
    "\n",
    "# Drop identifiers to get features\n",
    "features = df.drop(['AMF_UE_NGAP_ID', 'ip_source', 'Time'], axis=1)\n",
    "\n",
    "# Load model\n",
    "model_data = joblib.load('rf_nas_classifier.pkl')\n",
    "model = model_data['model']\n",
    "model_features = model_data['features']\n",
    "\n",
    "# Ensure feature columns match model training order\n",
    "# Fill missing columns with 0 and order them correctly\n",
    "for col in model_features:\n",
    "    if col not in features.columns:\n",
    "        features[col] = -1\n",
    "\n",
    "# Reorder columns\n",
    "features = features[model_features]\n",
    "\n",
    "# Predict\n",
    "predictions = model.predict(features)\n",
    "\n",
    "# Add predictions to original DataFrame\n",
    "df_original['prediction'] = predictions\n",
    "\n",
    "# Filter anomalies\n",
    "anomaly_rows = df_original[df_original['prediction'] == 1]\n",
    "\n",
    "# Show anomaly rows with identifiers\n",
    "#print(anomaly_rows[['AMF_UE_NGAP_ID', 'ip_source', 'Time', 'prediction']])\n"
   ]
  },
  {
   "cell_type": "code",
   "execution_count": null,
   "id": "71c662f1",
   "metadata": {},
   "outputs": [],
   "source": []
  },
  {
   "cell_type": "code",
   "execution_count": null,
   "id": "2fb83705",
   "metadata": {},
   "outputs": [],
   "source": []
  }
 ],
 "metadata": {
  "kernelspec": {
   "display_name": "venv",
   "language": "python",
   "name": "python3"
  },
  "language_info": {
   "codemirror_mode": {
    "name": "ipython",
    "version": 3
   },
   "file_extension": ".py",
   "mimetype": "text/x-python",
   "name": "python",
   "nbconvert_exporter": "python",
   "pygments_lexer": "ipython3",
   "version": "3.13.3"
  }
 },
 "nbformat": 4,
 "nbformat_minor": 5
}
